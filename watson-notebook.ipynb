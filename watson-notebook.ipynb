{
 "cells": [
  {
   "cell_type": "code",
   "execution_count": 1,
   "metadata": {},
   "outputs": [],
   "source": [
    "import ibm_boto3\n",
    "from ibm_botocore.client import Config\n",
    "import os, json, warnings\n",
    "\n",
    "warnings.filterwarnings('ignore')\n"
   ]
  },
  {
   "cell_type": "code",
   "execution_count": 2,
   "metadata": {},
   "outputs": [],
   "source": [
    "cos_credentials = {\n",
    "  \"apikey\": \"jxMi4cSODyADbOzNJKKrC6GwmFMvwIQOS2-hkUsQRMAI\",\n",
    "  \"cos_hmac_keys\": {\n",
    "    \"access_key_id\": \"a72a8ef2b1544da28e6cf03c639c220d\",\n",
    "    \"secret_access_key\": \"e7af0ac078a24117e241521fd5d4e8270d626f7921ef0326\"\n",
    "  },\n",
    "  \"endpoints\": \"https://control.cloud-object-storage.cloud.ibm.com/v2/endpoints\",\n",
    "  \"iam_apikey_description\": \"Auto-generated for key a72a8ef2-b154-4da2-8e6c-f03c639c220d\",\n",
    "  \"iam_apikey_name\": \"cloud_storage_credential\",\n",
    "  \"iam_role_crn\": \"crn:v1:bluemix:public:iam::::serviceRole:Writer\",\n",
    "  \"iam_serviceid_crn\": \"crn:v1:bluemix:public:iam-identity::a/9f7b5df93e4b41b281e49c0bb5433b09::serviceid:ServiceId-65e5ab2d-d97a-4ba8-bc89-4a61969569d6\",\n",
    "  \"resource_instance_id\": \"crn:v1:bluemix:public:cloud-object-storage:global:a/9f7b5df93e4b41b281e49c0bb5433b09:6c10a5bd-d8f4-4d92-80f5-4afe01fa85fd::\"\n",
    "}\n",
    "\n",
    "\n",
    "\n",
    "\n",
    "api_key = cos_credentials['apikey']\n",
    "service_instance_id = cos_credentials['resource_instance_id']\n",
    "auth_endpoint = 'https://iam.bluemix.net/oidc/token'\n",
    "service_endpoint = 'https://s3-api.us-geo.objectstorage.softlayer.net'"
   ]
  },
  {
   "cell_type": "code",
   "execution_count": 3,
   "metadata": {},
   "outputs": [],
   "source": [
    "cos = ibm_boto3.resource('s3',\n",
    "                         ibm_api_key_id=api_key,\n",
    "                         ibm_service_instance_id=service_instance_id,\n",
    "                         ibm_auth_endpoint=auth_endpoint,\n",
    "                         config=Config(signature_version='oauth'),\n",
    "                         endpoint_url=service_endpoint)"
   ]
  },
  {
   "cell_type": "code",
   "execution_count": 6,
   "metadata": {},
   "outputs": [
    {
     "name": "stdout",
     "output_type": "stream",
     "text": [
      "Creating bucket \"train-data-exp-2019-05-03-00-00\"...\n",
      "Creating bucket \"train-result-exp-2019-05-03-00-00\"...\n"
     ]
    }
   ],
   "source": [
    "date_time = '2019-05-03-00-00'\n",
    "buckets = {'data': 'train-data-exp-' + date_time, 'results': 'train-result-exp-' + date_time}\n",
    "\n",
    "for bucket in buckets.values():\n",
    "    if not cos.Bucket(bucket) in cos.buckets.all():\n",
    "        print('Creating bucket \"{}\"...'.format(bucket))\n",
    "        try:\n",
    "            cos.create_bucket(Bucket=bucket)\n",
    "        except ibm_boto3.exceptions.ibm_botocore.client.ClientError as e:\n",
    "            print('Error: {}.'.format(e.response['Error']['Message']))\n",
    "    else:\n",
    "        print('Bucket \"{}\" already exists.'.format(bucket))"
   ]
  },
  {
   "cell_type": "code",
   "execution_count": 7,
   "metadata": {},
   "outputs": [],
   "source": [
    "data_links = ['http://yann.lecun.com/exdb/mnist/train-images-idx3-ubyte.gz',\n",
    "              'http://yann.lecun.com/exdb/mnist/train-labels-idx1-ubyte.gz',\n",
    "              'http://yann.lecun.com/exdb/mnist/t10k-images-idx3-ubyte.gz',\n",
    "              'http://yann.lecun.com/exdb/mnist/t10k-labels-idx1-ubyte.gz']"
   ]
  },
  {
   "cell_type": "code",
   "execution_count": 9,
   "metadata": {},
   "outputs": [
    {
     "name": "stdout",
     "output_type": "stream",
     "text": [
      "Collecting wget\n",
      "  Downloading https://files.pythonhosted.org/packages/47/6a/62e288da7bcda82b935ff0c6cfe542970f04e29c756b0e147251b2fb251f/wget-3.2.zip\n",
      "Building wheels for collected packages: wget\n",
      "  Running setup.py bdist_wheel for wget ... \u001b[?25ldone\n",
      "\u001b[?25h  Stored in directory: /home/dsxuser/.cache/pip/wheels/40/15/30/7d8f7cea2902b4db79e3fea550d7d7b85ecb27ef992b618f3f\n",
      "Successfully built wget\n",
      "Installing collected packages: wget\n",
      "Successfully installed wget-3.2\n"
     ]
    }
   ],
   "source": [
    "!pip install wget"
   ]
  },
  {
   "cell_type": "code",
   "execution_count": 10,
   "metadata": {},
   "outputs": [
    {
     "data": {
      "text/plain": [
       "['MNIST_DATA/train-images-idx3-ubyte.gz',\n",
       " 'MNIST_DATA/t10k-labels-idx1-ubyte.gz',\n",
       " 'MNIST_DATA/train-labels-idx1-ubyte.gz',\n",
       " 'MNIST_DATA/t10k-images-idx3-ubyte.gz']"
      ]
     },
     "execution_count": 10,
     "metadata": {},
     "output_type": "execute_result"
    }
   ],
   "source": [
    "import wget, glob\n",
    "\n",
    "data_dir = 'MNIST_DATA'\n",
    "if not os.path.isdir(data_dir):\n",
    "    os.mkdir(data_dir)\n",
    "\n",
    "for link in data_links:\n",
    "    if not os.path.isfile(os.path.join(data_dir, os.path.join(link.split('/')[-1]))):\n",
    "        wget.download(link, out=data_dir)\n",
    "\n",
    "glob.glob('MNIST_DATA/*')"
   ]
  },
  {
   "cell_type": "code",
   "execution_count": 11,
   "metadata": {},
   "outputs": [
    {
     "name": "stdout",
     "output_type": "stream",
     "text": [
      "train-images-idx3-ubyte.gz is uploaded.\n",
      "t10k-labels-idx1-ubyte.gz is uploaded.\n",
      "train-labels-idx1-ubyte.gz is uploaded.\n",
      "t10k-images-idx3-ubyte.gz is uploaded.\n"
     ]
    }
   ],
   "source": [
    "bucket_name = buckets['data']\n",
    "bucket_obj = cos.Bucket(bucket_name)\n",
    "\n",
    "for filename in os.listdir(data_dir):\n",
    "    with open(os.path.join(data_dir, filename), 'rb') as data: \n",
    "        bucket_obj.upload_file(os.path.join(data_dir, filename), filename)\n",
    "        print('{} is uploaded.'.format(filename))"
   ]
  },
  {
   "cell_type": "code",
   "execution_count": 12,
   "metadata": {},
   "outputs": [
    {
     "name": "stdout",
     "output_type": "stream",
     "text": [
      "Object key: t10k-images-idx3-ubyte.gz, size: 1610.2kB\n",
      "Object key: t10k-labels-idx1-ubyte.gz, size:   4.4kB\n",
      "Object key: train-images-idx3-ubyte.gz, size: 9680.1kB\n",
      "Object key: train-labels-idx1-ubyte.gz, size:  28.2kB\n"
     ]
    }
   ],
   "source": [
    "for obj in bucket_obj.objects.all():\n",
    "    print('Object key: {}, size: {:5.1f}kB'.format(obj.key, obj.size/1024))"
   ]
  },
  {
   "cell_type": "code",
   "execution_count": 13,
   "metadata": {},
   "outputs": [],
   "source": [
    "wml_credentials = {\n",
    "  \"apikey\": \"HoPaS9-RoXpyX_UyM_0wS4-AgrFY9MITjO_bd_uS7vfU\",\n",
    "  \"iam_apikey_description\": \"Auto-generated for key c25fcd7f-dd9a-4a78-a225-35bfb61b3e94\",\n",
    "  \"iam_apikey_name\": \"Service credentials-demo\",\n",
    "  \"iam_role_crn\": \"crn:v1:bluemix:public:iam::::serviceRole:Writer\",\n",
    "  \"iam_serviceid_crn\": \"crn:v1:bluemix:public:iam-identity::a/9f7b5df93e4b41b281e49c0bb5433b09::serviceid:ServiceId-869702b1-8041-491e-9936-5916f6dba146\",\n",
    "  \"instance_id\": \"206a0912-d8d6-4f82-9e40-92a9d609aa76\",\n",
    "  \"password\": \"71d660b4-0d14-42d8-9d1d-740c014b803e\",\n",
    "  \"url\": \"https://us-south.ml.cloud.ibm.com\",\n",
    "  \"username\": \"c25fcd7f-dd9a-4a78-a225-35bfb61b3e94\"\n",
    "}"
   ]
  },
  {
   "cell_type": "code",
   "execution_count": 14,
   "metadata": {},
   "outputs": [
    {
     "name": "stdout",
     "output_type": "stream",
     "text": [
      "Requirement already up-to-date: watson-machine-learning-client in /opt/conda/envs/DSX-Python35/lib/python3.5/site-packages\n",
      "Requirement not upgraded as not directly required: ibm-cos-sdk in /opt/conda/envs/DSX-Python35/lib/python3.5/site-packages (from watson-machine-learning-client)\n",
      "Requirement not upgraded as not directly required: tabulate in /opt/conda/envs/DSX-Python35/lib/python3.5/site-packages (from watson-machine-learning-client)\n",
      "Requirement not upgraded as not directly required: lomond in /opt/conda/envs/DSX-Python35/lib/python3.5/site-packages (from watson-machine-learning-client)\n",
      "Requirement not upgraded as not directly required: tqdm in /opt/conda/envs/DSX-Python35/lib/python3.5/site-packages (from watson-machine-learning-client)\n",
      "Requirement not upgraded as not directly required: pandas in /opt/conda/envs/DSX-Python35/lib/python3.5/site-packages (from watson-machine-learning-client)\n",
      "Requirement not upgraded as not directly required: certifi in /opt/conda/envs/DSX-Python35/lib/python3.5/site-packages (from watson-machine-learning-client)\n",
      "Requirement not upgraded as not directly required: requests in /opt/conda/envs/DSX-Python35/lib/python3.5/site-packages (from watson-machine-learning-client)\n",
      "Requirement not upgraded as not directly required: urllib3 in /opt/conda/envs/DSX-Python35/lib/python3.5/site-packages (from watson-machine-learning-client)\n",
      "Requirement not upgraded as not directly required: ibm-cos-sdk-core==2.*,>=2.0.0 in /opt/conda/envs/DSX-Python35/lib/python3.5/site-packages (from ibm-cos-sdk->watson-machine-learning-client)\n",
      "Requirement not upgraded as not directly required: ibm-cos-sdk-s3transfer==2.*,>=2.0.0 in /opt/conda/envs/DSX-Python35/lib/python3.5/site-packages (from ibm-cos-sdk->watson-machine-learning-client)\n",
      "Requirement not upgraded as not directly required: six>=1.10.0 in /opt/conda/envs/DSX-Python35/lib/python3.5/site-packages (from lomond->watson-machine-learning-client)\n",
      "Requirement not upgraded as not directly required: python-dateutil>=2 in /opt/conda/envs/DSX-Python35/lib/python3.5/site-packages (from pandas->watson-machine-learning-client)\n",
      "Requirement not upgraded as not directly required: pytz>=2011k in /opt/conda/envs/DSX-Python35/lib/python3.5/site-packages (from pandas->watson-machine-learning-client)\n",
      "Requirement not upgraded as not directly required: numpy>=1.9.0 in /opt/conda/envs/DSX-Python35/lib/python3.5/site-packages (from pandas->watson-machine-learning-client)\n",
      "Requirement not upgraded as not directly required: chardet<3.1.0,>=3.0.2 in /opt/conda/envs/DSX-Python35/lib/python3.5/site-packages (from requests->watson-machine-learning-client)\n",
      "Requirement not upgraded as not directly required: idna<2.7,>=2.5 in /opt/conda/envs/DSX-Python35/lib/python3.5/site-packages (from requests->watson-machine-learning-client)\n",
      "Requirement not upgraded as not directly required: docutils>=0.10 in /opt/conda/envs/DSX-Python35/lib/python3.5/site-packages (from ibm-cos-sdk-core==2.*,>=2.0.0->ibm-cos-sdk->watson-machine-learning-client)\n",
      "Requirement not upgraded as not directly required: jmespath<1.0.0,>=0.7.1 in /opt/conda/envs/DSX-Python35/lib/python3.5/site-packages (from ibm-cos-sdk-core==2.*,>=2.0.0->ibm-cos-sdk->watson-machine-learning-client)\n"
     ]
    }
   ],
   "source": [
    "!pip install --upgrade watson-machine-learning-client --upgrade"
   ]
  },
  {
   "cell_type": "code",
   "execution_count": 113,
   "metadata": {},
   "outputs": [],
   "source": [
    "from watson_machine_learning_client import WatsonMachineLearningAPIClient"
   ]
  },
  {
   "cell_type": "code",
   "execution_count": 114,
   "metadata": {},
   "outputs": [],
   "source": [
    "client = WatsonMachineLearningAPIClient(wml_credentials)\n"
   ]
  },
  {
   "cell_type": "code",
   "execution_count": 115,
   "metadata": {},
   "outputs": [
    {
     "name": "stdout",
     "output_type": "stream",
     "text": [
      "1.0.365\n"
     ]
    }
   ],
   "source": [
    "print(client.version)\n"
   ]
  },
  {
   "cell_type": "code",
   "execution_count": 21,
   "metadata": {},
   "outputs": [],
   "source": [
    "#training"
   ]
  },
  {
   "cell_type": "code",
   "execution_count": 116,
   "metadata": {},
   "outputs": [],
   "source": [
    "model_definition_tf_metadata = {\n",
    "            client.repository.DefinitionMetaNames.NAME: \"Tensorflow - distributed\",\n",
    "            client.repository.DefinitionMetaNames.AUTHOR_EMAIL: \"le10772@umbc.edu\",\n",
    "            client.repository.DefinitionMetaNames.FRAMEWORK_NAME: \"tensorflow\",\n",
    "            client.repository.DefinitionMetaNames.FRAMEWORK_VERSION: \"1.5\",\n",
    "            client.repository.DefinitionMetaNames.RUNTIME_NAME: \"python\",\n",
    "            client.repository.DefinitionMetaNames.RUNTIME_VERSION: \"3.5\",\n",
    "            client.repository.DefinitionMetaNames.EXECUTION_COMMAND: \"PS_HOSTS_COUNT=1 ./launcher.py python3 ${MODEL_DIR}/mnist_dist.py --data_dir ${DATA_DIR}\"\n",
    "            }"
   ]
  },
  {
   "cell_type": "code",
   "execution_count": 117,
   "metadata": {},
   "outputs": [],
   "source": [
    "model_definition_horovod_metadata = {\n",
    "            client.repository.DefinitionMetaNames.NAME: \"Tensorflow - horovod\",\n",
    "            client.repository.DefinitionMetaNames.AUTHOR_EMAIL: \"le10772@umbc.edu\",\n",
    "            client.repository.DefinitionMetaNames.FRAMEWORK_NAME: \"tensorflow-horovod\",\n",
    "            client.repository.DefinitionMetaNames.FRAMEWORK_VERSION: \"1.5\",\n",
    "            client.repository.DefinitionMetaNames.RUNTIME_NAME: \"python\",\n",
    "            client.repository.DefinitionMetaNames.RUNTIME_VERSION: \"3.5\",\n",
    "            client.repository.DefinitionMetaNames.EXECUTION_COMMAND: \"python tensorflow_mnist.py\"\n",
    "            }"
   ]
  },
  {
   "cell_type": "code",
   "execution_count": 118,
   "metadata": {},
   "outputs": [],
   "source": [
    "model_definition_ddl_metadata = {\n",
    "            client.repository.DefinitionMetaNames.NAME: \"Tensorflow - ddl\",\n",
    "            client.repository.DefinitionMetaNames.AUTHOR_EMAIL: \"le10772@umbc.edu\",\n",
    "            client.repository.DefinitionMetaNames.FRAMEWORK_NAME: \"tensorflow-ddl\",\n",
    "            client.repository.DefinitionMetaNames.FRAMEWORK_VERSION: \"1.5\",\n",
    "            client.repository.DefinitionMetaNames.RUNTIME_NAME: \"python\",\n",
    "            client.repository.DefinitionMetaNames.RUNTIME_VERSION: \"3.5\",\n",
    "            client.repository.DefinitionMetaNames.EXECUTION_COMMAND: \"python mnist-train-ddl.py; python transform.py\"\n",
    "            }"
   ]
  },
  {
   "cell_type": "code",
   "execution_count": 119,
   "metadata": {},
   "outputs": [
    {
     "data": {
      "text/plain": [
       "['tf_ddl.zip', 'tf_horovod.zip', 'tf_distributed.zip']"
      ]
     },
     "execution_count": 119,
     "metadata": {},
     "output_type": "execute_result"
    }
   ],
   "source": [
    "filename_tf = 'tf_distributed.zip'\n",
    "filename_horovod = 'tf_horovod.zip'\n",
    "filename_ddl = 'tf_ddl.zip'\n",
    "\n",
    "if os.path.isfile(filename_tf):\n",
    "    os.remove(filename_tf)\n",
    "wget.download('https://github.com/pmservice/wml-sample-models/raw/master/tensorflow/distributed-hand-written-digits/native/' + filename_tf)\n",
    "\n",
    "if os.path.isfile(filename_horovod):\n",
    "    os.remove(filename_horovod)\n",
    "wget.download('https://github.com/pmservice/wml-sample-models/raw/master/tensorflow/distributed-hand-written-digits/horovod/' + filename_horovod)\n",
    "\n",
    "if os.path.isfile(filename_ddl):\n",
    "    os.remove(filename_ddl)\n",
    "wget.download('https://github.com/pmservice/wml-sample-models/raw/master/tensorflow/distributed-hand-written-digits/ddl/' + filename_ddl)\n",
    "\n",
    "glob.glob('tf_*.zip')\n"
   ]
  },
  {
   "cell_type": "code",
   "execution_count": null,
   "metadata": {},
   "outputs": [],
   "source": []
  },
  {
   "cell_type": "code",
   "execution_count": 120,
   "metadata": {},
   "outputs": [
    {
     "name": "stdout",
     "output_type": "stream",
     "text": [
      "https://us-south.ml.cloud.ibm.com/v3/ml_assets/training_definitions/98531abc-d4dd-40d7-81a2-ae27d0d3992a\n"
     ]
    }
   ],
   "source": [
    "definition_tf_details = client.repository.store_definition(filename_tf, model_definition_tf_metadata)\n",
    "\n",
    "definition_tf_url = client.repository.get_definition_url(definition_tf_details)\n",
    "definition_tf_uid = client.repository.get_definition_uid(definition_tf_details)\n",
    "print(definition_tf_url)"
   ]
  },
  {
   "cell_type": "code",
   "execution_count": null,
   "metadata": {},
   "outputs": [],
   "source": []
  },
  {
   "cell_type": "code",
   "execution_count": 121,
   "metadata": {},
   "outputs": [
    {
     "name": "stdout",
     "output_type": "stream",
     "text": [
      "https://us-south.ml.cloud.ibm.com/v3/ml_assets/training_definitions/3529d167-79c3-4ea5-9a1d-e8dadcfd5851\n"
     ]
    }
   ],
   "source": [
    "definition_horovod_details = client.repository.store_definition(filename_horovod, model_definition_horovod_metadata)\n",
    "\n",
    "definition_horovod_url = client.repository.get_definition_url(definition_horovod_details)\n",
    "definition_horovod_uid = client.repository.get_definition_uid(definition_horovod_details)\n",
    "print(definition_horovod_url)"
   ]
  },
  {
   "cell_type": "code",
   "execution_count": null,
   "metadata": {},
   "outputs": [],
   "source": []
  },
  {
   "cell_type": "code",
   "execution_count": 122,
   "metadata": {},
   "outputs": [
    {
     "name": "stdout",
     "output_type": "stream",
     "text": [
      "https://us-south.ml.cloud.ibm.com/v3/ml_assets/training_definitions/f596761a-78b8-41b6-b3e0-d7fc3b5ba51a\n"
     ]
    }
   ],
   "source": [
    "definition_ddl_details = client.repository.store_definition(filename_ddl, model_definition_ddl_metadata)\n",
    "\n",
    "definition_ddl_url = client.repository.get_definition_url(definition_ddl_details)\n",
    "definition_ddl_uid = client.repository.get_definition_uid(definition_ddl_details)\n",
    "print(definition_ddl_url)"
   ]
  },
  {
   "cell_type": "code",
   "execution_count": null,
   "metadata": {},
   "outputs": [],
   "source": []
  },
  {
   "cell_type": "code",
   "execution_count": 123,
   "metadata": {},
   "outputs": [
    {
     "name": "stdout",
     "output_type": "stream",
     "text": [
      "------------------------------------  ------------------------  ------------------------  ------------------\n",
      "GUID                                  NAME                      CREATED                   FRAMEWORK\n",
      "f596761a-78b8-41b6-b3e0-d7fc3b5ba51a  Tensorflow - ddl          2019-05-03T19:42:38.190Z  tensorflow-ddl\n",
      "3529d167-79c3-4ea5-9a1d-e8dadcfd5851  Tensorflow - horovod      2019-05-03T19:42:35.716Z  tensorflow-horovod\n",
      "98531abc-d4dd-40d7-81a2-ae27d0d3992a  Tensorflow - distributed  2019-05-03T19:42:31.491Z  tensorflow\n",
      "b1b94c10-ac07-4b03-a530-44ed5a166d81  Tensorflow - ddl          2019-05-03T18:09:14.120Z  tensorflow-ddl\n",
      "d288bbf1-1ad7-4ac2-b8d1-f4c5f3fe8ab7  Tensorflow - horovod      2019-05-03T18:09:05.128Z  tensorflow-horovod\n",
      "f9e4d3a9-8f60-4b1a-83c8-d90604270221  Tensorflow - distributed  2019-05-03T18:08:51.985Z  tensorflow\n",
      "------------------------------------  ------------------------  ------------------------  ------------------\n"
     ]
    }
   ],
   "source": [
    "client.repository.list_definitions()\n",
    "\n"
   ]
  },
  {
   "cell_type": "code",
   "execution_count": null,
   "metadata": {},
   "outputs": [],
   "source": []
  },
  {
   "cell_type": "code",
   "execution_count": 124,
   "metadata": {},
   "outputs": [
    {
     "name": "stdout",
     "output_type": "stream",
     "text": [
      "--------------------------  ----  --------\n",
      "META_PROP NAME              TYPE  REQUIRED\n",
      "NAME                        str   Y\n",
      "DESCRIPTION                 str   N\n",
      "TAGS                        list  N\n",
      "AUTHOR_NAME                 str   N\n",
      "EVALUATION_METHOD           str   N\n",
      "EVALUATION_METRICS          list  N\n",
      "TRAINING_REFERENCES         list  Y\n",
      "TRAINING_DATA_REFERENCE     dict  Y\n",
      "TRAINING_RESULTS_REFERENCE  dict  Y\n",
      "--------------------------  ----  --------\n"
     ]
    }
   ],
   "source": [
    "client.repository.ExperimentMetaNames.show()\n"
   ]
  },
  {
   "cell_type": "code",
   "execution_count": null,
   "metadata": {},
   "outputs": [],
   "source": []
  },
  {
   "cell_type": "code",
   "execution_count": 31,
   "metadata": {},
   "outputs": [],
   "source": [
    "TRAINING_DATA_REFERENCE = {\n",
    "                            \"connection\": {\n",
    "                                \"endpoint_url\": service_endpoint,\n",
    "                                \"access_key_id\": cos_credentials['cos_hmac_keys']['access_key_id'],\n",
    "                                \"secret_access_key\": cos_credentials['cos_hmac_keys']['secret_access_key']\n",
    "                            },\n",
    "                            \"source\": {\n",
    "                                \"bucket\": buckets['data'],\n",
    "                            },\n",
    "                            \"type\": \"s3\"\n",
    "                           }\n",
    "TRAINING_RESULTS_REFERENCE = {\n",
    "                                \"connection\": {\n",
    "                                    \"endpoint_url\": service_endpoint,\n",
    "                                    \"access_key_id\": cos_credentials['cos_hmac_keys']['access_key_id'],\n",
    "                                    \"secret_access_key\": cos_credentials['cos_hmac_keys']['secret_access_key']\n",
    "                                },\n",
    "                                \"target\": {\n",
    "                                    \"bucket\": buckets['results'],\n",
    "                                },\n",
    "                                \"type\": \"s3\"\n",
    "                             }"
   ]
  },
  {
   "cell_type": "code",
   "execution_count": 84,
   "metadata": {},
   "outputs": [],
   "source": [
    "experiment_metadata = {\n",
    "            client.repository.ExperimentMetaNames.NAME: \"Distributed MNIST experiment\",\n",
    "            client.repository.ExperimentMetaNames.AUTHOR_EMAIL: \"le10772@umbc.edu\",\n",
    "            client.repository.ExperimentMetaNames.TRAINING_DATA_REFERENCE: TRAINING_DATA_REFERENCE,\n",
    "            client.repository.ExperimentMetaNames.TRAINING_RESULTS_REFERENCE: TRAINING_RESULTS_REFERENCE,\n",
    "            client.repository.ExperimentMetaNames.TRAINING_REFERENCES: [\n",
    "                        {\n",
    "                            \"name\": \"tf-distributed\",\n",
    "                            \"training_definition_url\": definition_tf_url,\n",
    "                            \"compute_configuration\": {\"name\": \"k80\", \"nodes\": 1}\n",
    "                        },                        \n",
    "                        {\n",
    "                            \"name\": \"tf-horovod\",\n",
    "                            \"training_definition_url\": definition_horovod_url,\n",
    "                            \"compute_configuration\": {\"name\": \"k80\", \"nodes\": 1}\n",
    "                        },                        \n",
    "                        {\n",
    "                            \"name\": \"tf-ddl\",\n",
    "                            \"training_definition_url\": definition_ddl_url,\n",
    "                            \"compute_configuration\": {\"name\": \"k80\", \"nodes\": 1}\n",
    "                        }\n",
    "                    ],\n",
    "                }"
   ]
  },
  {
   "cell_type": "code",
   "execution_count": null,
   "metadata": {},
   "outputs": [],
   "source": []
  },
  {
   "cell_type": "code",
   "execution_count": 85,
   "metadata": {},
   "outputs": [
    {
     "name": "stdout",
     "output_type": "stream",
     "text": [
      "55bf0251-408d-409e-bca8-c6bc3285ac22\n"
     ]
    }
   ],
   "source": [
    "experiment_details = client.repository.store_experiment(meta_props=experiment_metadata)\n",
    "\n",
    "experiment_uid = client.repository.get_experiment_uid(experiment_details)\n",
    "print(experiment_uid)"
   ]
  },
  {
   "cell_type": "code",
   "execution_count": null,
   "metadata": {},
   "outputs": [],
   "source": []
  },
  {
   "cell_type": "code",
   "execution_count": 86,
   "metadata": {},
   "outputs": [
    {
     "name": "stdout",
     "output_type": "stream",
     "text": [
      "------------------------------------  ----------------------------  ------------------------\n",
      "GUID                                  NAME                          CREATED\n",
      "55bf0251-408d-409e-bca8-c6bc3285ac22  Distributed MNIST experiment  2019-05-03T19:30:31.019Z\n",
      "7b3c07e7-80fe-4ef5-82d5-9fb37c30582a  Distributed MNIST experiment  2019-05-03T19:28:18.808Z\n",
      "e39645b2-53f7-425f-b329-04a5c7cac689  Distributed MNIST experiment  2019-05-03T19:24:16.751Z\n",
      "b0582fb0-6554-43d7-b043-c9a963ed442d  Distributed MNIST experiment  2019-05-03T18:13:22.220Z\n",
      "7acbdbab-ec9f-4a52-b886-653f3c19b788  Distributed MNIST experiment  2019-05-03T18:10:19.605Z\n",
      "------------------------------------  ----------------------------  ------------------------\n"
     ]
    }
   ],
   "source": [
    "client.repository.list_experiments()\n"
   ]
  },
  {
   "cell_type": "code",
   "execution_count": null,
   "metadata": {},
   "outputs": [],
   "source": []
  },
  {
   "cell_type": "code",
   "execution_count": 87,
   "metadata": {},
   "outputs": [],
   "source": [
    "details = client.repository.get_experiment_details(experiment_uid)\n",
    "#print(details)"
   ]
  },
  {
   "cell_type": "code",
   "execution_count": 88,
   "metadata": {},
   "outputs": [],
   "source": [
    "# run experiment"
   ]
  },
  {
   "cell_type": "code",
   "execution_count": 89,
   "metadata": {},
   "outputs": [
    {
     "name": "stdout",
     "output_type": "stream",
     "text": [
      "\n",
      "\n",
      "#########################################################\n",
      "\n",
      "Running '55bf0251-408d-409e-bca8-c6bc3285ac22' experiment\n",
      "\n",
      "#########################################################\n",
      "\n",
      "\n",
      "Experiment run uid: 679d6ac3-df02-4549-b0d5-181e44ed38ae\n",
      "\n",
      "0%   - Processing model-0jsdgo70 (1/3): experiment_state=pending, training_state=pending\n",
      "0%   - Processing model-0jsdgo70 (1/3): experiment_state=pending, training_state=running\n",
      "0%   - Processing model-0jsdgo70 (1/3): experiment_state=running, training_state=running\n",
      "66%  - Processing model-0jsdgo70 (3/3): experiment_state=running, training_state=completed\n",
      "100% - Processing model-0jsdgo70 (3/3): experiment_state=completed, training_state=completed\n",
      "100% - Finished processing training runs: experiment_state=completed\n",
      "\n",
      "\n",
      "--------------------------------------------------------------------\n",
      "Run of '55bf0251-408d-409e-bca8-c6bc3285ac22' finished successfully.\n",
      "--------------------------------------------------------------------\n",
      "\n",
      "\n"
     ]
    }
   ],
   "source": [
    "experiment_run_details = client.experiments.run(experiment_uid, asynchronous=False)\n"
   ]
  },
  {
   "cell_type": "code",
   "execution_count": 105,
   "metadata": {},
   "outputs": [
    {
     "name": "stdout",
     "output_type": "stream",
     "text": [
      "679d6ac3-df02-4549-b0d5-181e44ed38ae\n"
     ]
    }
   ],
   "source": [
    "experiment_run_id = client.experiments.get_run_uid(experiment_run_details)\n",
    "print(experiment_run_id)"
   ]
  },
  {
   "cell_type": "code",
   "execution_count": null,
   "metadata": {},
   "outputs": [],
   "source": []
  },
  {
   "cell_type": "code",
   "execution_count": 106,
   "metadata": {},
   "outputs": [],
   "source": [
    "experiment_details = client.experiments.get_details(experiment_uid)\n"
   ]
  },
  {
   "cell_type": "code",
   "execution_count": null,
   "metadata": {},
   "outputs": [],
   "source": []
  },
  {
   "cell_type": "code",
   "execution_count": 107,
   "metadata": {},
   "outputs": [],
   "source": [
    "run_details = client.experiments.get_run_details(experiment_run_id)\n"
   ]
  },
  {
   "cell_type": "code",
   "execution_count": null,
   "metadata": {},
   "outputs": [],
   "source": []
  },
  {
   "cell_type": "code",
   "execution_count": 108,
   "metadata": {},
   "outputs": [
    {
     "name": "stdout",
     "output_type": "stream",
     "text": [
      "{'submitted_at': '2019-05-03T19:30:39.186Z', 'current_at': '2019-05-03T19:30:39.186Z', 'current_iteration': 1, 'state': 'completed'}\n"
     ]
    }
   ],
   "source": [
    "status = client.experiments.get_status(experiment_run_id)\n",
    "print(status)"
   ]
  },
  {
   "cell_type": "code",
   "execution_count": null,
   "metadata": {},
   "outputs": [],
   "source": []
  },
  {
   "cell_type": "code",
   "execution_count": 109,
   "metadata": {},
   "outputs": [
    {
     "name": "stdout",
     "output_type": "stream",
     "text": [
      "---------------  --------------  ---------  ------------------------  ------------------------  -----------\n",
      "GUID (training)  NAME            STATE      SUBMITTED                 FINISHED                  PERFORMANCE\n",
      "model-0jsdgo70   tf-ddl          completed  2019-05-03T19:30:39.924Z  2019-05-03T19:33:33.797Z  -\n",
      "model-39ixgso2   tf-horovod      completed  2019-05-03T19:30:39.854Z  2019-05-03T19:33:33.508Z  -\n",
      "model-b3l1sbwy   tf-distributed  error      2019-05-03T19:30:40.138Z  2019-05-03T19:33:09.845Z  -\n",
      "---------------  --------------  ---------  ------------------------  ------------------------  -----------\n"
     ]
    }
   ],
   "source": [
    "client.experiments.list_training_runs(experiment_run_id)\n"
   ]
  },
  {
   "cell_type": "code",
   "execution_count": null,
   "metadata": {},
   "outputs": [],
   "source": []
  },
  {
   "cell_type": "code",
   "execution_count": 110,
   "metadata": {},
   "outputs": [
    {
     "name": "stdout",
     "output_type": "stream",
     "text": [
      "\n",
      "\n",
      "########################################################################\n",
      "\n",
      "Monitor started for experiment run: 679d6ac3-df02-4549-b0d5-181e44ed38ae\n",
      "\n",
      "########################################################################\n",
      "\n",
      "\n",
      "\n",
      "\n",
      "####################################################\n",
      "\n",
      "Log monitor started for training run: model-0jsdgo70\n",
      "\n",
      "####################################################\n",
      "\n",
      "\n",
      "executing installPrerequisites sh\n",
      " * Starting OpenBSD Secure Shell server sshd\n",
      "   ...done.\n",
      "Training with training/test data at:\n",
      "  DATA_DIR: /mnt/data/train-data-exp-2019-05-03-00-00\n",
      "  MODEL_DIR: /job/model-code\n",
      "  RESULT_DIR: /mnt/results/train-result-exp-2019-05-03-00-00/training-dNeiFmmWR\n",
      "  LOG_DIR: /job/logs\n",
      "  TRAINING_COMMAND: python mnist-train-ddl.py; python transform.py\n",
      "  GPUs per Learner: 1.000000\n",
      "  LEARNER_ID: 1\n",
      "  LEARNER_NAME_PREFIX:: learner-a71101b8-a430-4495-4d01-15456ed3b129\n",
      "Num learners: 1\n",
      "creating results directory /mnt/results/train-result-exp-2019-05-03-00-00/training-dNeiFmmWR/learner-1\n",
      "Training job: \n",
      "Argument for invocation: \n",
      "Making sure ssh is running\n",
      " * sshd is running\n",
      " * Starting OpenBSD Secure Shell server sshd\n",
      "   ...done.\n",
      " * sshd is running\n",
      "set the LD_PRELOAD path to /usr/local/cuOpenMPI3.0.0/lib/libmpi.so\n",
      "Fri May  3 19:31:22 UTC 2019: Running Tensorflow with DDL\n",
      "Num learners: 1\n",
      "Num MPI tasks: 1\n",
      "[learner-a71101b8-a430-4495-4d01-15456ed3b129-0:00134] MCW rank 0 bound to socket 0[core 0[hwt 0-1]], socket 0[core 1[hwt 0-1]], socket 0[core 2[hwt 0-1]], socket 0[core 3[hwt 0-1]], socket 0[core 4[hwt 0-1]], socket 0[core 5[hwt 0-1]], socket 0[core 6[hwt 0-1]], socket 0[core 7[hwt 0-1]]: [BB/BB/BB/BB/BB/BB/BB/BB/../../../..][../../../../../../../../../../../..]\n",
      "Extracting /mnt/data/train-data-exp-2019-05-03-00-00/train-images-idx3-ubyte.gz\n",
      "Extracting /mnt/data/train-data-exp-2019-05-03-00-00/train-labels-idx1-ubyte.gz\n",
      "Extracting /mnt/data/train-data-exp-2019-05-03-00-00/t10k-images-idx3-ubyte.gz\n",
      "Extracting /mnt/data/train-data-exp-2019-05-03-00-00/t10k-labels-idx1-ubyte.gz\n",
      "writing checkpoint file /mnt/results/train-result-exp-2019-05-03-00-00/training-dNeiFmmWR/mnist_basegraph.meta\n",
      "2019-05-03 19:31:43.363473: I ddl_MDR_ops.cc:144] [MPI:0   ] Init _rank=0 _size=1 date=Apr 17 2019 time=19:06:54\n",
      "DDL: rank: 0, size: 1, gpuid: 0, hosts: 1\n",
      "2019-05-03 19:31:43.371444: I tensorflow/core/platform/cpu_feature_guard.cc:137] Your CPU supports instructions that this TensorFlow binary was not compiled to use: SSE4.1 SSE4.2 AVX AVX2 FMA\n",
      "2019-05-03 19:31:43.584878: I tensorflow/core/common_runtime/gpu/gpu_device.cc:1105] Found device 0 with properties: \n",
      "name: Tesla K80 major: 3 minor: 7 memoryClockRate(GHz): 0.8235\n",
      "pciBusID: 0000:83:00.0\n",
      "totalMemory: 11.92GiB freeMemory: 11.85GiB\n",
      "2019-05-03 19:31:43.584925: I tensorflow/core/common_runtime/gpu/gpu_device.cc:1195] Creating TensorFlow device (/device:GPU:0) -> (device: 0, name: Tesla K80, pci bus id: 0000:83:00.0, compute capability: 3.7)\n",
      "2019-05-03 19:31:43.803845: I ddl_MDR_ops.cc:586] [MPI:0   ]  name=Init local_gpuid=0 local_rank=0 local_size=1\n",
      "I 19:31:43.803   139 228 DDL:748 ] [MPI:0   ] ==== IBM Corp. DDL Apr 17 2019 19:04:02 + (MPI 3.1, CUDA 9000, NCCL 2.4.6) ====\n",
      "W 19:31:43.804 139   228 DDL:879 ] [MPI:0   ] USE_OPENMP is off\n",
      "DDL: module 0 initialized.\n",
      "DDL: rank: 0, size: 1, gpuid: 0, hosts: 1\n",
      "2019-05-03 19:31:44.307953: I tensorflow/core/common_runtime/gpu/gpu_device.cc:1195] Creating TensorFlow device (/device:GPU:0) -> (device: 0, name: Tesla K80, pci bus id: 0000:83:00.0, compute capability: 3.7)\n",
      "2019-05-03 19:31:45.071479: I ddl_MDR_ops.cc:246] [MPI:0   ]  name=adam_optimizer/AllReduceN _global_buf_size=3274634 _N=8\n",
      "I 19:31:45.073 139   230 DDL:2093] [MPI:0   ] selected algo: RING    - RING   \n",
      "DDL 0] Iter 100, Minibatch Loss= 7.269459, Training Accuracy= 0.20000\n",
      "DDL 0] Iter 200, Minibatch Loss= 13.470877, Training Accuracy= 0.19000\n",
      "DDL 0] Iter 300, Minibatch Loss= 14.189838, Training Accuracy= 0.24000\n",
      "DDL 0] Iter 400, Minibatch Loss= 11.949255, Training Accuracy= 0.28000\n",
      "DDL 0] Iter 500, Minibatch Loss= 9.127099, Training Accuracy= 0.36000\n",
      "DDL 0] Iter 600, Minibatch Loss= 8.325790, Training Accuracy= 0.39000\n",
      "DDL 0] Iter 700, Minibatch Loss= 7.555353, Training Accuracy= 0.33000\n",
      "DDL 0] Iter 800, Minibatch Loss= 5.181059, Training Accuracy= 0.31000\n",
      "DDL 0] Iter 900, Minibatch Loss= 3.451163, Training Accuracy= 0.42000\n",
      "[10] save checkpoint path: /mnt/results/train-result-exp-2019-05-03-00-00/training-dNeiFmmWR/mnist\n",
      "DDL 0] Iter 1000, Minibatch Loss= 2.844383, Training Accuracy= 0.49000\n",
      "DDL 0] Iter 1100, Minibatch Loss= 2.747451, Training Accuracy= 0.31000\n",
      "DDL 0] Iter 1200, Minibatch Loss= 2.711688, Training Accuracy= 0.32000\n",
      "DDL 0] Iter 1300, Minibatch Loss= 2.085709, Training Accuracy= 0.42000\n",
      "DDL 0] Iter 1400, Minibatch Loss= 1.972703, Training Accuracy= 0.40000\n",
      "DDL 0] Iter 1500, Minibatch Loss= 1.786253, Training Accuracy= 0.50000\n",
      "DDL 0] Iter 1600, Minibatch Loss= 1.600770, Training Accuracy= 0.59000\n",
      "DDL 0] Iter 1700, Minibatch Loss= 1.697617, Training Accuracy= 0.48000\n",
      "DDL 0] Iter 1800, Minibatch Loss= 1.522717, Training Accuracy= 0.61000\n",
      "DDL 0] Iter 1900, Minibatch Loss= 1.569218, Training Accuracy= 0.55000\n",
      "[20] save checkpoint path: /mnt/results/train-result-exp-2019-05-03-00-00/training-dNeiFmmWR/mnist\n",
      "DDL 0] Iter 2000, Minibatch Loss= 1.291724, Training Accuracy= 0.70000\n",
      "DDL 0] Iter 2100, Minibatch Loss= 1.172048, Training Accuracy= 0.70000\n",
      "DDL 0] Iter 2200, Minibatch Loss= 1.159688, Training Accuracy= 0.69000\n",
      "DDL 0] Iter 2300, Minibatch Loss= 1.111780, Training Accuracy= 0.68000\n",
      "DDL 0] Iter 2400, Minibatch Loss= 0.830706, Training Accuracy= 0.79000\n",
      "DDL 0] Optimization Finished!\n",
      "DDL 0] Testing Accuracy: 0.78125\n",
      "2019-05-03 19:32:06.896132: I ddl_MDR_ops.cc:164] [MPI:0   ] calling MPI_Finalize\n",
      "\n",
      "2019-05-03 19:32:08.586526: I tensorflow/core/platform/cpu_feature_guard.cc:137] Your CPU supports instructions that this TensorFlow binary was not compiled to use: SSE4.1 SSE4.2 AVX AVX2 FMA\n",
      "2019-05-03 19:32:08.806230: I tensorflow/core/common_runtime/gpu/gpu_device.cc:1105] Found device 0 with properties: \n",
      "name: Tesla K80 major: 3 minor: 7 memoryClockRate(GHz): 0.8235\n",
      "pciBusID: 0000:83:00.0\n",
      "totalMemory: 11.92GiB freeMemory: 11.85GiB\n",
      "2019-05-03 19:32:08.806275: I tensorflow/core/common_runtime/gpu/gpu_device.cc:1195] Creating TensorFlow device (/device:GPU:0) -> (device: 0, name: Tesla K80, pci bus id: 0000:83:00.0, compute capability: 3.7)\n",
      "Running the program to transform meta graph and checkpoint in servable model\n",
      " Loading graph from /mnt/results/train-result-exp-2019-05-03-00-00/training-dNeiFmmWR/mnist_basegraph.meta\n",
      "Model for serving is saved here: b'/mnt/results/train-result-exp-2019-05-03-00-00/training-dNeiFmmWR/model/saved_model.pb'\n",
      "\n",
      "\n",
      "\n",
      "####################################################\n",
      "\n",
      "Log monitor started for training run: model-39ixgso2\n",
      "\n",
      "####################################################\n",
      "\n",
      "\n",
      "executing installPrerequisites sh\n",
      " * Starting OpenBSD Secure Shell server sshd\n",
      "   ...done.\n",
      "Training with training/test data at:\n",
      "  DATA_DIR: /mnt/data/train-data-exp-2019-05-03-00-00\n",
      "  MODEL_DIR: /job/model-code\n",
      "  RESULT_DIR: /mnt/results/train-result-exp-2019-05-03-00-00/training-IIemKiiZR\n",
      "  LOG_DIR: /job/logs\n",
      "  TRAINING_COMMAND: python tensorflow_mnist.py\n",
      "  GPUs per Learner: 1.000000\n",
      "  LEARNER_ID: 1\n",
      "  LEARNER_NAME_PREFIX:: learner-632dae57-ed40-45f8-59af-1eca36c7fb6e\n",
      "Num learners: 1\n",
      "creating results directory /mnt/results/train-result-exp-2019-05-03-00-00/training-IIemKiiZR/learner-1\n",
      "Making sure ssh is running\n",
      " * sshd is running\n",
      " * Starting OpenBSD Secure Shell server sshd\n",
      "   ...done.\n",
      " * sshd is running\n",
      "Fri May  3 19:31:21 UTC 2019: Running Tensorflow with horovod\n",
      "Num learners: 1\n",
      "Num MPI tasks: 1\n",
      "WARNING:tensorflow:From /usr/local/lib/python3.5/dist-packages/tensorflow/python/ops/losses/losses_impl.py:691: softmax_cross_entropy_with_logits (from tensorflow.python.ops.nn_ops) is deprecated and will be removed in a future version.\n",
      "Instructions for updating:\n",
      "\n",
      "Future major versions of TensorFlow will allow gradients to flow\n",
      "into the labels input on backprop by default.\n",
      "\n",
      "See tf.nn.softmax_cross_entropy_with_logits_v2.\n",
      "\n",
      "WARNING:tensorflow:From tensorflow_mnist.py:85: get_or_create_global_step (from tensorflow.contrib.framework.python.ops.variables) is deprecated and will be removed in a future version.\n",
      "Instructions for updating:\n",
      "Please switch to tf.train.get_or_create_global_step\n",
      "INFO:tensorflow:Create CheckpointSaverHook.\n",
      "2019-05-03 19:31:27.188789: I tensorflow/core/platform/cpu_feature_guard.cc:137] Your CPU supports instructions that this TensorFlow binary was not compiled to use: SSE4.1 SSE4.2 AVX AVX2 FMA\n",
      "2019-05-03 19:31:27.380907: I tensorflow/core/common_runtime/gpu/gpu_device.cc:1105] Found device 0 with properties: \n",
      "name: Tesla K80 major: 3 minor: 7 memoryClockRate(GHz): 0.8235\n",
      "pciBusID: 0000:84:00.0\n",
      "totalMemory: 11.17GiB freeMemory: 11.10GiB\n",
      "2019-05-03 19:31:27.380942: I tensorflow/core/common_runtime/gpu/gpu_device.cc:1195] Creating TensorFlow device (/device:GPU:0) -> (device: 0, name: Tesla K80, pci bus id: 0000:84:00.0, compute capability: 3.7)\n",
      "INFO:tensorflow:Saving checkpoints for 1 into /mnt/results/train-result-exp-2019-05-03-00-00/training-IIemKiiZR/checkpoints/model.ckpt.\n",
      "INFO:tensorflow:loss = 2.300102, step = 1\n",
      "INFO:tensorflow:loss = 2.2835515, step = 11 (0.242 sec)\n",
      "INFO:tensorflow:Saving checkpoints for 20 into /mnt/results/train-result-exp-2019-05-03-00-00/training-IIemKiiZR/checkpoints/model.ckpt.\n",
      "checkpint path is /mnt/results/train-result-exp-2019-05-03-00-00/training-IIemKiiZR/checkpoints and training_data_dir is /mnt/data/train-data-exp-2019-05-03-00-00 and learner_id 1\n",
      "Extracting /mnt/data/train-data-exp-2019-05-03-00-00/train-images-idx3-ubyte.gz\n",
      "Extracting /mnt/data/train-data-exp-2019-05-03-00-00/train-labels-idx1-ubyte.gz\n",
      "Extracting /mnt/data/train-data-exp-2019-05-03-00-00/t10k-images-idx3-ubyte.gz\n",
      "Extracting /mnt/data/train-data-exp-2019-05-03-00-00/t10k-labels-idx1-ubyte.gz\n",
      "\n",
      "\n",
      "\n",
      "####################################################\n",
      "\n",
      "Log monitor started for training run: model-b3l1sbwy\n",
      "\n",
      "####################################################\n",
      "\n",
      "\n",
      "Training with training/test data at:\n",
      "  DATA_DIR: /mnt/data/train-data-exp-2019-05-03-00-00\n",
      "  MODEL_DIR: /job/model-code\n",
      "  TRAINING_JOB: \n",
      "  TRAINING_COMMAND: PS_HOSTS_COUNT=1 ./launcher.py python3 ${MODEL_DIR}/mnist_dist.py --data_dir ${DATA_DIR}\n",
      "Storing trained model at:\n",
      "  RESULT_DIR: /mnt/results/train-result-exp-2019-05-03-00-00/training-a46iFiiWR\n",
      "Fri May  3 19:31:54 UTC 2019: Running Tensorflow job\n",
      "executing command ['python3', '/job/model-code/mnist_dist.py', '--data_dir', '/mnt/data/train-data-exp-2019-05-03-00-00', '--job_name=ps', '--ps_hosts=learner-f57d0fee-c785-44fd-6fc7-37c3fe10671c-0.learner-f57d0fee-c785-44fd-6fc7-37c3fe10671c:2222', '--worker_hosts=', '--task_index=0']\n",
      "process should have started executing now... python3 /job/model-code/mnist_dist.py --data_dir /mnt/data/train-data-exp-2019-05-03-00-00 --job_name=ps --ps_hosts=learner-f57d0fee-c785-44fd-6fc7-37c3fe10671c-0.learner-f57d0fee-c785-44fd-6fc7-37c3fe10671c:2222 --worker_hosts= --task_index=0\n",
      "2019-05-03 19:31:56.943038: I tensorflow/core/platform/cpu_feature_guard.cc:137] Your CPU supports instructions that this TensorFlow binary was not compiled to use: SSE4.1 SSE4.2 AVX AVX2 FMA\n",
      "2019-05-03 19:31:57.162910: I tensorflow/core/common_runtime/gpu/gpu_device.cc:1105] Found device 0 with properties:\n",
      "name: Tesla K80 major: 3 minor: 7 memoryClockRate(GHz): 0.8235\n",
      "pciBusID: 0000:84:00.0\n",
      "totalMemory: 11.17GiB freeMemory: 11.10GiB\n",
      "2019-05-03 19:31:57.162963: I tensorflow/core/common_runtime/gpu/gpu_device.cc:1195] Creating TensorFlow device (/device:GPU:0) -> (device: 0, name: Tesla K80, pci bus id: 0000:84:00.0, compute capability: 3.7)\n",
      "E0503 19:31:57.535859507      59 completion_queue.cc:492]    assertion failed: cq_event_queue_num_items(&cqd->queue) == 0\n",
      "Traceback (most recent call last):\n",
      "  File \"./launcher.py\", line 55, in <module>\n",
      "    run_training(command)\n",
      "  File \"./launcher.py\", line 18, in run_training\n",
      "    raise ValueError(\"cmd: {0} exited with code {1}\".format(\" \".join(cmd), rc)) \n",
      "ValueError: cmd: python3 /job/model-code/mnist_dist.py --data_dir /mnt/data/train-data-exp-2019-05-03-00-00 --job_name=ps --ps_hosts=learner-f57d0fee-c785-44fd-6fc7-37c3fe10671c-0.learner-f57d0fee-c785-44fd-6fc7-37c3fe10671c:2222 --worker_hosts= --task_index=0 exited with code -6\n",
      "Training exited with error code 1\n",
      "Failed: learner_exit_code: 1\n",
      "\n",
      "\n",
      "\n",
      "-----------------\n",
      "Log monitor done.\n",
      "-----------------\n",
      "\n",
      "\n"
     ]
    }
   ],
   "source": [
    "client.experiments.monitor_logs(experiment_run_id)"
   ]
  },
  {
   "cell_type": "code",
   "execution_count": null,
   "metadata": {},
   "outputs": [],
   "source": []
  },
  {
   "cell_type": "code",
   "execution_count": 111,
   "metadata": {},
   "outputs": [
    {
     "name": "stdout",
     "output_type": "stream",
     "text": [
      "\n",
      "\n",
      "###############################################################################\n",
      "\n",
      "Metric monitor started for experiment run: 679d6ac3-df02-4549-b0d5-181e44ed38ae\n",
      "\n",
      "###############################################################################\n",
      "\n",
      "\n",
      "\n",
      "\n",
      "--------------------\n",
      "Metric monitor done.\n",
      "--------------------\n",
      "\n",
      "\n"
     ]
    }
   ],
   "source": [
    "client.experiments.monitor_metrics(experiment_run_id)"
   ]
  },
  {
   "cell_type": "code",
   "execution_count": 112,
   "metadata": {},
   "outputs": [
    {
     "name": "stdout",
     "output_type": "stream",
     "text": [
      "------------------------------------  ------------------------------------  ----------------------------  ---------  ------------------------\n",
      "GUID (experiment)                     GUID (run)                            NAME (experiment)             STATE      CREATED\n",
      "55bf0251-408d-409e-bca8-c6bc3285ac22  679d6ac3-df02-4549-b0d5-181e44ed38ae  Distributed MNIST experiment  completed  2019-05-03T19:30:38.962Z\n",
      "7b3c07e7-80fe-4ef5-82d5-9fb37c30582a  3d3b962f-e197-4dbe-9720-8c0a8435ed57  Distributed MNIST experiment  error      2019-05-03T19:28:23.509Z\n",
      "e39645b2-53f7-425f-b329-04a5c7cac689  35a00d37-9ba8-4572-bb23-848ecca72374  Distributed MNIST experiment  completed  2019-05-03T19:24:20.225Z\n",
      "b0582fb0-6554-43d7-b043-c9a963ed442d  f3991188-e70c-40f7-af03-3ca30cbad1c5  Distributed MNIST experiment  error      2019-05-03T18:13:27.379Z\n",
      "------------------------------------  ------------------------------------  ----------------------------  ---------  ------------------------\n"
     ]
    }
   ],
   "source": [
    "client.experiments.list_runs()\n"
   ]
  },
  {
   "cell_type": "code",
   "execution_count": null,
   "metadata": {},
   "outputs": [],
   "source": []
  },
  {
   "cell_type": "code",
   "execution_count": 99,
   "metadata": {},
   "outputs": [
    {
     "name": "stdout",
     "output_type": "stream",
     "text": [
      "{'tf-distributed': 'model-b3l1sbwy', 'tf-ddl': 'model-0jsdgo70', 'tf-horovod': 'model-39ixgso2'}\n"
     ]
    }
   ],
   "source": [
    "training_runs = {rd['training_reference_name']: rd['training_guid'] for rd in run_details['entity']['training_statuses']}\n",
    "\n",
    "print(training_runs)"
   ]
  },
  {
   "cell_type": "code",
   "execution_count": null,
   "metadata": {},
   "outputs": [],
   "source": []
  },
  {
   "cell_type": "code",
   "execution_count": 126,
   "metadata": {},
   "outputs": [
    {
     "data": {
      "text/plain": [
       "{'current_at': '2019-05-03T19:34:02.639Z',\n",
       " 'finished_at': '2019-05-03T19:33:33.797Z',\n",
       " 'message': 'training-dNeiFmmWR: ',\n",
       " 'metrics': [],\n",
       " 'running_at': '2019-05-03T19:30:52.297Z',\n",
       " 'state': 'completed',\n",
       " 'submitted_at': '2019-05-03T19:30:39.924Z'}"
      ]
     },
     "execution_count": 126,
     "metadata": {},
     "output_type": "execute_result"
    }
   ],
   "source": [
    "client.training.get_status('model-0jsdgo70')"
   ]
  },
  {
   "cell_type": "code",
   "execution_count": null,
   "metadata": {},
   "outputs": [],
   "source": []
  },
  {
   "cell_type": "code",
   "execution_count": null,
   "metadata": {},
   "outputs": [],
   "source": [
    "#4. store trained model"
   ]
  },
  {
   "cell_type": "code",
   "execution_count": null,
   "metadata": {},
   "outputs": [],
   "source": [
    "#experiment_run_details = client.experiments.get_run_details(experiment_run_id)\n"
   ]
  },
  {
   "cell_type": "code",
   "execution_count": 127,
   "metadata": {},
   "outputs": [
    {
     "name": "stdout",
     "output_type": "stream",
     "text": [
      "Saving model: tf-distributed...\n",
      "{'metadata': {'guid': '7dadca61-8ee0-44c4-bd63-0964f51d4487', 'modified_at': '2019-05-03T19:44:08.382Z', 'created_at': '2019-05-03T19:44:08.320Z', 'url': 'https://us-south.ml.cloud.ibm.com/v3/wml_instances/206a0912-d8d6-4f82-9e40-92a9d609aa76/published_models/7dadca61-8ee0-44c4-bd63-0964f51d4487'}, 'entity': {'evaluation_metrics_url': 'https://us-south.ml.cloud.ibm.com/v3/wml_instances/206a0912-d8d6-4f82-9e40-92a9d609aa76/published_models/7dadca61-8ee0-44c4-bd63-0964f51d4487/evaluation_metrics', 'model_type': 'tensorflow-1.5', 'deployments': {'url': 'https://us-south.ml.cloud.ibm.com/v3/wml_instances/206a0912-d8d6-4f82-9e40-92a9d609aa76/published_models/7dadca61-8ee0-44c4-bd63-0964f51d4487/deployments', 'count': 0}, 'learning_configuration_url': 'https://us-south.ml.cloud.ibm.com/v3/wml_instances/206a0912-d8d6-4f82-9e40-92a9d609aa76/published_models/7dadca61-8ee0-44c4-bd63-0964f51d4487/learning_configuration', 'latest_version': {'guid': '3cd9fd15-1d7d-4e37-afcc-a68a5a378cae', 'created_at': '2019-05-03T19:44:08.382Z', 'url': 'https://us-south.ml.cloud.ibm.com/v3/ml_assets/models/7dadca61-8ee0-44c4-bd63-0964f51d4487/versions/3cd9fd15-1d7d-4e37-afcc-a68a5a378cae'}, 'runtime_environment': 'python-3.5', 'description': 'Training job for experiment Distributed MNIST experiment', 'learning_iterations_url': 'https://us-south.ml.cloud.ibm.com/v3/wml_instances/206a0912-d8d6-4f82-9e40-92a9d609aa76/published_models/7dadca61-8ee0-44c4-bd63-0964f51d4487/learning_iterations', 'name': 'My cool mnist model tf-distributed', 'feedback_url': 'https://us-south.ml.cloud.ibm.com/v3/wml_instances/206a0912-d8d6-4f82-9e40-92a9d609aa76/published_models/7dadca61-8ee0-44c4-bd63-0964f51d4487/feedback'}}\n",
      "Saving model: tf-ddl...\n",
      "{'metadata': {'guid': '51b5c51c-89a4-4238-8054-07461d3f320c', 'modified_at': '2019-05-03T19:44:10.154Z', 'created_at': '2019-05-03T19:44:10.094Z', 'url': 'https://us-south.ml.cloud.ibm.com/v3/wml_instances/206a0912-d8d6-4f82-9e40-92a9d609aa76/published_models/51b5c51c-89a4-4238-8054-07461d3f320c'}, 'entity': {'evaluation_metrics_url': 'https://us-south.ml.cloud.ibm.com/v3/wml_instances/206a0912-d8d6-4f82-9e40-92a9d609aa76/published_models/51b5c51c-89a4-4238-8054-07461d3f320c/evaluation_metrics', 'model_type': 'tensorflow-1.5', 'deployments': {'url': 'https://us-south.ml.cloud.ibm.com/v3/wml_instances/206a0912-d8d6-4f82-9e40-92a9d609aa76/published_models/51b5c51c-89a4-4238-8054-07461d3f320c/deployments', 'count': 0}, 'learning_configuration_url': 'https://us-south.ml.cloud.ibm.com/v3/wml_instances/206a0912-d8d6-4f82-9e40-92a9d609aa76/published_models/51b5c51c-89a4-4238-8054-07461d3f320c/learning_configuration', 'latest_version': {'guid': 'f393d37c-4696-4e6f-afcf-ef125dcf8f6b', 'created_at': '2019-05-03T19:44:10.154Z', 'url': 'https://us-south.ml.cloud.ibm.com/v3/ml_assets/models/51b5c51c-89a4-4238-8054-07461d3f320c/versions/f393d37c-4696-4e6f-afcf-ef125dcf8f6b'}, 'runtime_environment': 'python-3.5', 'description': 'Training job for experiment Distributed MNIST experiment', 'learning_iterations_url': 'https://us-south.ml.cloud.ibm.com/v3/wml_instances/206a0912-d8d6-4f82-9e40-92a9d609aa76/published_models/51b5c51c-89a4-4238-8054-07461d3f320c/learning_iterations', 'name': 'My cool mnist model tf-ddl', 'feedback_url': 'https://us-south.ml.cloud.ibm.com/v3/wml_instances/206a0912-d8d6-4f82-9e40-92a9d609aa76/published_models/51b5c51c-89a4-4238-8054-07461d3f320c/feedback'}}\n",
      "Saving model: tf-horovod...\n",
      "{'metadata': {'guid': '8d2f4fdd-8eff-46d0-a560-944eedf20a81', 'modified_at': '2019-05-03T19:44:11.927Z', 'created_at': '2019-05-03T19:44:11.865Z', 'url': 'https://us-south.ml.cloud.ibm.com/v3/wml_instances/206a0912-d8d6-4f82-9e40-92a9d609aa76/published_models/8d2f4fdd-8eff-46d0-a560-944eedf20a81'}, 'entity': {'evaluation_metrics_url': 'https://us-south.ml.cloud.ibm.com/v3/wml_instances/206a0912-d8d6-4f82-9e40-92a9d609aa76/published_models/8d2f4fdd-8eff-46d0-a560-944eedf20a81/evaluation_metrics', 'model_type': 'tensorflow-1.5', 'deployments': {'url': 'https://us-south.ml.cloud.ibm.com/v3/wml_instances/206a0912-d8d6-4f82-9e40-92a9d609aa76/published_models/8d2f4fdd-8eff-46d0-a560-944eedf20a81/deployments', 'count': 0}, 'learning_configuration_url': 'https://us-south.ml.cloud.ibm.com/v3/wml_instances/206a0912-d8d6-4f82-9e40-92a9d609aa76/published_models/8d2f4fdd-8eff-46d0-a560-944eedf20a81/learning_configuration', 'latest_version': {'guid': 'f55a2986-2fe4-478b-9aef-edc86296c07f', 'created_at': '2019-05-03T19:44:11.927Z', 'url': 'https://us-south.ml.cloud.ibm.com/v3/ml_assets/models/8d2f4fdd-8eff-46d0-a560-944eedf20a81/versions/f55a2986-2fe4-478b-9aef-edc86296c07f'}, 'runtime_environment': 'python-3.5', 'description': 'Training job for experiment Distributed MNIST experiment', 'learning_iterations_url': 'https://us-south.ml.cloud.ibm.com/v3/wml_instances/206a0912-d8d6-4f82-9e40-92a9d609aa76/published_models/8d2f4fdd-8eff-46d0-a560-944eedf20a81/learning_iterations', 'name': 'My cool mnist model tf-horovod', 'feedback_url': 'https://us-south.ml.cloud.ibm.com/v3/wml_instances/206a0912-d8d6-4f82-9e40-92a9d609aa76/published_models/8d2f4fdd-8eff-46d0-a560-944eedf20a81/feedback'}}\n"
     ]
    }
   ],
   "source": [
    "saved_model_details = {}\n",
    "\n",
    "for training_run in training_runs:\n",
    "    print(\"Saving model: {}...\".format(training_run))\n",
    "    saved_model_details[training_run] = client.repository.store_model(training_runs[training_run], {\"name\": \"My cool mnist model {}\".format(training_run)})\n",
    "    print(saved_model_details[training_run])"
   ]
  },
  {
   "cell_type": "code",
   "execution_count": null,
   "metadata": {},
   "outputs": [],
   "source": []
  },
  {
   "cell_type": "code",
   "execution_count": 128,
   "metadata": {},
   "outputs": [
    {
     "name": "stdout",
     "output_type": "stream",
     "text": [
      "Saved model guid: {'tf-distributed': '7dadca61-8ee0-44c4-bd63-0964f51d4487', 'tf-ddl': '51b5c51c-89a4-4238-8054-07461d3f320c', 'tf-horovod': '8d2f4fdd-8eff-46d0-a560-944eedf20a81'}\n"
     ]
    }
   ],
   "source": [
    "saved_model_uids = {training_run: client.repository.get_model_uid(saved_model_details[training_run]) for training_run in saved_model_details}\n",
    "print(\"Saved model guid: {}\".format(saved_model_uids))"
   ]
  },
  {
   "cell_type": "code",
   "execution_count": null,
   "metadata": {},
   "outputs": [],
   "source": []
  },
  {
   "cell_type": "code",
   "execution_count": 129,
   "metadata": {},
   "outputs": [
    {
     "name": "stdout",
     "output_type": "stream",
     "text": [
      "------------------------------------  ----------------------------------  ------------------------  --------------\n",
      "GUID                                  NAME                                CREATED                   FRAMEWORK\n",
      "8d2f4fdd-8eff-46d0-a560-944eedf20a81  My cool mnist model tf-horovod      2019-05-03T19:44:11.865Z  tensorflow-1.5\n",
      "51b5c51c-89a4-4238-8054-07461d3f320c  My cool mnist model tf-ddl          2019-05-03T19:44:10.094Z  tensorflow-1.5\n",
      "7dadca61-8ee0-44c4-bd63-0964f51d4487  My cool mnist model tf-distributed  2019-05-03T19:44:08.320Z  tensorflow-1.5\n",
      "------------------------------------  ----------------------------------  ------------------------  --------------\n"
     ]
    }
   ],
   "source": [
    "client.repository.list_models()"
   ]
  },
  {
   "cell_type": "code",
   "execution_count": null,
   "metadata": {},
   "outputs": [],
   "source": []
  },
  {
   "cell_type": "code",
   "execution_count": 130,
   "metadata": {},
   "outputs": [
    {
     "name": "stdout",
     "output_type": "stream",
     "text": [
      "\n",
      "\n",
      "#######################################################################################\n",
      "\n",
      "Synchronous deployment creation for uid: '51b5c51c-89a4-4238-8054-07461d3f320c' started\n",
      "\n",
      "#######################################################################################\n",
      "\n",
      "\n",
      "INITIALIZING\n",
      "DEPLOY_SUCCESS\n",
      "\n",
      "\n",
      "------------------------------------------------------------------------------------------------\n",
      "Successfully finished deployment creation, deployment_uid='e25f87f3-9996-46fe-8717-ed052ea5d504'\n",
      "------------------------------------------------------------------------------------------------\n",
      "\n",
      "\n"
     ]
    }
   ],
   "source": [
    "deployment_details = client.deployments.create(name=\"Mnist model deployment - tf-ddl\", model_uid=saved_model_uids['tf-ddl'])"
   ]
  },
  {
   "cell_type": "code",
   "execution_count": 131,
   "metadata": {},
   "outputs": [
    {
     "name": "stdout",
     "output_type": "stream",
     "text": [
      "https://us-south.ml.cloud.ibm.com/v3/wml_instances/206a0912-d8d6-4f82-9e40-92a9d609aa76/deployments/e25f87f3-9996-46fe-8717-ed052ea5d504/online\n"
     ]
    }
   ],
   "source": [
    "scoring_url = client.deployments.get_scoring_url(deployment_details)\n",
    "print(scoring_url)"
   ]
  },
  {
   "cell_type": "code",
   "execution_count": null,
   "metadata": {},
   "outputs": [],
   "source": []
  },
  {
   "cell_type": "code",
   "execution_count": 132,
   "metadata": {},
   "outputs": [],
   "source": [
    "#scoring"
   ]
  },
  {
   "cell_type": "code",
   "execution_count": 134,
   "metadata": {},
   "outputs": [],
   "source": [
    "image1 = [0.000,0.000,0.000,0.000,0.000,0.000,0.000,0.000,0.000,0.000,0.000,0.000,0.000,0.000,0.000,0.000,0.000,0.000,0.000,0.000,0.000,0.000,0.000,0.000,0.000,0.000,0.000,0.000,0.000,0.000,0.000,0.000,0.000,0.000,0.000,0.000,0.000,0.000,0.000,0.000,0.000,0.000,0.000,0.000,0.000,0.000,0.000,0.000,0.000,0.000,0.000,0.000,0.000,0.000,0.000,0.000,0.000,0.000,0.000,0.000,0.000,0.000,0.000,0.000,0.000,0.000,0.000,0.000,0.000,0.000,0.000,0.000,0.000,0.000,0.000,0.000,0.000,0.000,0.000,0.000,0.000,0.000,0.000,0.000,0.000,0.000,0.000,0.000,0.000,0.000,0.000,0.000,0.000,0.000,0.000,0.000,0.000,0.000,0.000,0.000,0.000,0.000,0.000,0.000,0.000,0.000,0.000,0.000,0.000,0.000,0.000,0.000,0.000,0.000,0.000,0.000,0.000,0.000,0.000,0.000,0.000,0.000,0.000,0.000,0.000,0.000,0.000,0.000,0.000,0.000,0.000,0.000,0.000,0.000,0.000,0.000,0.000,0.000,0.000,0.000,0.000,0.000,0.000,0.000,0.000,0.000,0.000,0.000,0.000,0.000,0.000,0.000,0.639,0.757,0.596,0.361,0.200,0.200,0.200,0.200,0.122,0.000,0.000,0.000,0.000,0.000,0.000,0.000,0.000,0.000,0.000,0.000,0.000,0.000,0.000,0.000,0.000,0.000,0.000,0.082,0.875,0.992,0.988,0.992,0.988,0.992,0.988,0.992,0.753,0.322,0.000,0.000,0.000,0.000,0.000,0.000,0.000,0.000,0.000,0.000,0.000,0.000,0.000,0.000,0.000,0.000,0.000,0.200,0.992,0.400,0.000,0.082,0.400,0.243,0.400,0.400,0.239,0.718,0.157,0.000,0.000,0.000,0.000,0.000,0.000,0.000,0.000,0.000,0.000,0.000,0.000,0.000,0.000,0.000,0.000,0.200,0.988,0.400,0.000,0.000,0.000,0.000,0.000,0.000,0.000,0.239,0.000,0.000,0.000,0.000,0.000,0.000,0.000,0.000,0.000,0.000,0.000,0.000,0.000,0.000,0.000,0.000,0.000,0.200,0.992,0.400,0.000,0.000,0.000,0.000,0.000,0.000,0.000,0.000,0.000,0.000,0.000,0.000,0.000,0.000,0.000,0.000,0.000,0.000,0.000,0.000,0.000,0.000,0.000,0.000,0.000,0.361,0.988,0.400,0.000,0.000,0.000,0.000,0.000,0.000,0.000,0.000,0.000,0.000,0.000,0.000,0.000,0.000,0.000,0.000,0.000,0.000,0.000,0.000,0.000,0.000,0.000,0.000,0.000,0.678,0.992,0.400,0.000,0.000,0.000,0.000,0.000,0.000,0.000,0.000,0.000,0.000,0.000,0.000,0.000,0.000,0.000,0.000,0.000,0.000,0.000,0.000,0.000,0.000,0.000,0.000,0.000,0.992,0.988,0.875,0.796,0.796,0.796,0.322,0.000,0.000,0.000,0.000,0.000,0.000,0.000,0.000,0.000,0.000,0.000,0.000,0.000,0.000,0.000,0.000,0.000,0.000,0.000,0.000,0.482,0.996,0.992,0.878,0.796,0.796,0.875,0.996,0.278,0.000,0.000,0.000,0.000,0.000,0.000,0.000,0.000,0.000,0.000,0.000,0.000,0.000,0.000,0.000,0.000,0.000,0.000,0.161,0.953,0.992,0.510,0.078,0.000,0.000,0.078,0.992,0.910,0.161,0.000,0.000,0.000,0.000,0.000,0.000,0.000,0.000,0.000,0.000,0.000,0.000,0.000,0.000,0.000,0.000,0.000,0.596,0.992,0.718,0.000,0.000,0.000,0.000,0.000,0.518,0.992,0.400,0.000,0.000,0.000,0.000,0.000,0.000,0.000,0.000,0.000,0.000,0.000,0.000,0.000,0.000,0.000,0.000,0.000,0.200,0.592,0.078,0.000,0.000,0.000,0.000,0.000,0.200,0.988,0.400,0.000,0.000,0.000,0.000,0.000,0.000,0.000,0.000,0.000,0.000,0.000,0.000,0.000,0.000,0.000,0.000,0.000,0.082,0.000,0.000,0.000,0.000,0.000,0.000,0.000,0.443,0.992,0.400,0.000,0.000,0.000,0.000,0.000,0.000,0.000,0.000,0.000,0.000,0.000,0.000,0.000,0.000,0.000,0.000,0.322,0.718,0.000,0.000,0.000,0.000,0.000,0.000,0.000,0.757,0.988,0.400,0.000,0.000,0.000,0.000,0.000,0.000,0.000,0.000,0.000,0.000,0.000,0.000,0.000,0.000,0.000,0.000,0.796,0.718,0.000,0.000,0.000,0.000,0.000,0.000,0.082,0.996,0.992,0.161,0.000,0.000,0.000,0.000,0.000,0.000,0.000,0.000,0.000,0.000,0.000,0.000,0.000,0.000,0.000,0.082,0.875,0.400,0.000,0.000,0.000,0.000,0.000,0.082,0.796,0.992,0.510,0.000,0.000,0.000,0.000,0.000,0.000,0.000,0.000,0.000,0.000,0.000,0.000,0.000,0.000,0.000,0.000,0.000,0.800,0.482,0.000,0.000,0.000,0.000,0.161,0.678,0.992,0.796,0.078,0.000,0.000,0.000,0.000,0.000,0.000,0.000,0.000,0.000,0.000,0.000,0.000,0.000,0.000,0.000,0.000,0.000,0.635,0.875,0.400,0.082,0.400,0.639,0.953,0.992,0.671,0.078,0.000,0.000,0.000,0.000,0.000,0.000,0.000,0.000,0.000,0.000,0.000,0.000,0.000,0.000,0.000,0.000,0.000,0.000,0.161,0.918,0.992,1.000,0.992,1.000,0.675,0.322,0.000,0.000,0.000,0.000,0.000,0.000,0.000,0.000,0.000,0.000,0.000,0.000,0.000,0.000,0.000,0.000,0.000,0.000,0.000,0.000,0.000,0.118,0.514,0.753,0.435,0.196,0.039,0.000,0.000,0.000,0.000,0.000,0.000,0.000,0.000,0.000,0.000,0.000,0.000,0.000,0.000,0.000,0.000,0.000,0.000,0.000,0.000,0.000,0.000,0.000,0.000,0.000,0.000,0.000,0.000,0.000,0.000,0.000,0.000,0.000,0.000,0.000,0.000,0.000,0.000,0.000,0.000,0.000,0.000,0.000,0.000,0.000,0.000,0.000,0.000,0.000,0.000,0.000,0.000,0.000,0.000,0.000,0.000,0.000,0.000,0.000,0.000,0.000,0.000,0.000,0.000,0.000,0.000,0.000,0.000,0.000,0.000,0.000,0.000,0.000,0.000,0.000,0.000,0.000,0.000,0.000,0.000,0.000,0.000,0.000,0.000,0.000,0.000,0.000,0.000,0.000,0.000,0.000,0.000,0.000,0.000,0.000,0.000,0.000]\n",
    "image2 = [0.000,0.000,0.000,0.000,0.000,0.000,0.000,0.000,0.000,0.000,0.000,0.000,0.000,0.000,0.000,0.000,0.000,0.000,0.000,0.000,0.000,0.000,0.000,0.000,0.000,0.000,0.000,0.000,0.000,0.000,0.000,0.000,0.000,0.000,0.000,0.000,0.000,0.000,0.000,0.000,0.000,0.000,0.000,0.000,0.000,0.000,0.000,0.000,0.000,0.000,0.000,0.000,0.000,0.000,0.000,0.000,0.000,0.000,0.000,0.000,0.000,0.000,0.000,0.000,0.000,0.000,0.000,0.000,0.000,0.000,0.000,0.000,0.000,0.000,0.000,0.000,0.000,0.000,0.000,0.000,0.000,0.000,0.000,0.000,0.000,0.000,0.000,0.000,0.000,0.000,0.000,0.000,0.000,0.000,0.000,0.000,0.000,0.000,0.000,0.000,0.000,0.000,0.000,0.000,0.000,0.000,0.000,0.000,0.000,0.000,0.000,0.000,0.000,0.000,0.000,0.000,0.000,0.000,0.000,0.000,0.000,0.000,0.000,0.000,0.000,0.000,0.000,0.000,0.000,0.000,0.000,0.000,0.000,0.000,0.000,0.000,0.000,0.000,0.000,0.000,0.000,0.000,0.000,0.000,0.000,0.000,0.000,0.000,0.000,0.000,0.196,0.878,0.000,0.000,0.000,0.000,0.000,0.000,0.000,0.275,0.114,0.000,0.000,0.000,0.000,0.000,0.000,0.000,0.000,0.000,0.000,0.000,0.000,0.000,0.000,0.000,0.000,0.000,0.475,0.906,0.000,0.000,0.000,0.000,0.000,0.000,0.000,0.580,0.659,0.000,0.000,0.000,0.000,0.000,0.000,0.000,0.000,0.000,0.000,0.000,0.000,0.000,0.000,0.000,0.000,0.016,0.765,0.906,0.000,0.000,0.000,0.000,0.000,0.000,0.000,0.376,0.824,0.043,0.000,0.000,0.000,0.000,0.000,0.000,0.000,0.000,0.000,0.000,0.000,0.000,0.000,0.000,0.000,0.271,0.988,0.525,0.000,0.000,0.000,0.000,0.000,0.000,0.000,0.447,0.988,0.082,0.000,0.000,0.000,0.000,0.000,0.000,0.000,0.000,0.000,0.000,0.000,0.000,0.000,0.000,0.176,0.925,0.851,0.047,0.000,0.000,0.000,0.000,0.000,0.000,0.000,0.753,0.988,0.082,0.000,0.000,0.000,0.000,0.000,0.000,0.000,0.000,0.000,0.000,0.000,0.000,0.000,0.000,0.659,0.969,0.208,0.000,0.000,0.000,0.000,0.000,0.000,0.000,0.071,1.000,0.992,0.082,0.000,0.000,0.000,0.000,0.000,0.000,0.000,0.000,0.000,0.000,0.000,0.000,0.000,0.329,0.949,0.827,0.000,0.000,0.000,0.000,0.000,0.000,0.000,0.000,0.553,0.992,0.741,0.020,0.000,0.000,0.000,0.000,0.000,0.000,0.000,0.000,0.000,0.000,0.000,0.000,0.000,0.663,0.988,0.416,0.000,0.000,0.000,0.000,0.000,0.000,0.000,0.125,0.910,0.980,0.259,0.000,0.000,0.000,0.000,0.000,0.000,0.000,0.000,0.000,0.000,0.000,0.000,0.000,0.059,0.882,0.988,0.000,0.000,0.000,0.000,0.000,0.000,0.000,0.000,0.525,0.988,0.827,0.000,0.000,0.000,0.000,0.000,0.000,0.000,0.000,0.000,0.000,0.000,0.000,0.000,0.000,0.086,0.988,0.643,0.000,0.000,0.000,0.000,0.000,0.000,0.000,0.000,0.663,0.988,0.655,0.000,0.000,0.000,0.000,0.000,0.000,0.000,0.000,0.000,0.000,0.000,0.000,0.000,0.000,0.035,0.800,0.820,0.071,0.000,0.000,0.000,0.000,0.000,0.000,0.086,0.992,0.992,0.420,0.000,0.000,0.000,0.000,0.000,0.000,0.000,0.000,0.000,0.000,0.000,0.000,0.000,0.000,0.000,0.663,0.988,0.780,0.333,0.333,0.333,0.333,0.506,0.643,0.765,0.988,0.988,0.416,0.000,0.000,0.000,0.000,0.000,0.000,0.000,0.000,0.000,0.000,0.000,0.000,0.000,0.000,0.000,0.161,0.667,0.961,0.988,0.988,0.988,0.988,0.910,0.906,0.984,0.988,0.988,0.035,0.000,0.000,0.000,0.000,0.000,0.000,0.000,0.000,0.000,0.000,0.000,0.000,0.000,0.000,0.000,0.000,0.000,0.192,0.329,0.329,0.329,0.329,0.000,0.000,0.631,0.988,0.988,0.000,0.000,0.000,0.000,0.000,0.000,0.000,0.000,0.000,0.000,0.000,0.000,0.000,0.000,0.000,0.000,0.000,0.000,0.000,0.000,0.000,0.000,0.000,0.000,0.000,0.498,0.988,0.988,0.176,0.000,0.000,0.000,0.000,0.000,0.000,0.000,0.000,0.000,0.000,0.000,0.000,0.000,0.000,0.000,0.000,0.000,0.000,0.000,0.000,0.000,0.000,0.000,0.000,0.502,0.992,0.992,0.000,0.000,0.000,0.000,0.000,0.000,0.000,0.000,0.000,0.000,0.000,0.000,0.000,0.000,0.000,0.000,0.000,0.000,0.000,0.000,0.000,0.000,0.000,0.000,0.000,0.498,0.988,0.988,0.000,0.000,0.000,0.000,0.000,0.000,0.000,0.000,0.000,0.000,0.000,0.000,0.000,0.000,0.000,0.000,0.000,0.000,0.000,0.000,0.000,0.000,0.000,0.000,0.000,0.529,0.988,0.957,0.000,0.000,0.000,0.000,0.000,0.000,0.000,0.000,0.000,0.000,0.000,0.000,0.000,0.000,0.000,0.000,0.000,0.000,0.000,0.000,0.000,0.000,0.000,0.000,0.000,0.910,0.925,0.435,0.000,0.000,0.000,0.000,0.000,0.000,0.000,0.000,0.000,0.000,0.000,0.000,0.000,0.000,0.000,0.000,0.000,0.000,0.000,0.000,0.000,0.000,0.000,0.000,0.000,0.702,0.259,0.000,0.000,0.000,0.000,0.000,0.000,0.000,0.000,0.000,0.000,0.000,0.000,0.000,0.000,0.000,0.000,0.000,0.000,0.000,0.000,0.000,0.000,0.000,0.000,0.000,0.000,0.000,0.000,0.000,0.000,0.000,0.000,0.000,0.000,0.000,0.000,0.000,0.000,0.000,0.000,0.000,0.000,0.000,0.000,0.000,0.000,0.000,0.000,0.000,0.000,0.000,0.000,0.000,0.000,0.000,0.000,0.000,0.000,0.000,0.000,0.000,0.000,0.000,0.000,0.000,0.000,0.000,0.000,0.000,0.000,0.000,0.000,0.000,0.000,0.000,0.000,0.000,0.000,0.000,0.000,0.000,0.000,0.000,0.000,0.000,0.000,0.000,0.000,0.000,0.000,0.000,0.000,0.000,0.000]"
   ]
  },
  {
   "cell_type": "code",
   "execution_count": null,
   "metadata": {},
   "outputs": [],
   "source": []
  },
  {
   "cell_type": "code",
   "execution_count": 135,
   "metadata": {},
   "outputs": [],
   "source": [
    "%matplotlib inline\n",
    "import matplotlib.pyplot as plt\n",
    "import numpy as np"
   ]
  },
  {
   "cell_type": "code",
   "execution_count": 136,
   "metadata": {},
   "outputs": [
    {
     "data": {
      "image/png": "[encoded data removed]",
      "text/plain": [
       "<matplotlib.figure.Figure at 0x7ff5cb64d278>"
      ]
     },
     "metadata": {},
     "output_type": "display_data"
    }
   ],
   "source": [
    "for i, image in enumerate([image1, image2]):\n",
    "    plt.subplot(2, 2, i + 1)\n",
    "    plt.axis('off')\n",
    "    plt.imshow((np.reshape(image, (28, 28)) * 255).astype(np.uint8), cmap=plt.cm.gray_r, interpolation='nearest')\n"
   ]
  },
  {
   "cell_type": "code",
   "execution_count": 137,
   "metadata": {},
   "outputs": [],
   "source": [
    "scoring_data = {\"values\": [image1, image2]}\n"
   ]
  },
  {
   "cell_type": "code",
   "execution_count": 138,
   "metadata": {},
   "outputs": [
    {
     "name": "stdout",
     "output_type": "stream",
     "text": [
      "Scoring result: {'values': [3, 4]}\n"
     ]
    }
   ],
   "source": [
    "predictions = client.deployments.score(scoring_url, scoring_data)\n",
    "print(\"Scoring result: \" + str(predictions))"
   ]
  },
  {
   "cell_type": "code",
   "execution_count": null,
   "metadata": {},
   "outputs": [],
   "source": []
  }
 ],
 "metadata": {
  "kernelspec": {
   "display_name": "Python 3.5",
   "language": "python",
   "name": "python3"
  },
  "language_info": {
   "codemirror_mode": {
    "name": "ipython",
    "version": 3
   },
   "file_extension": ".py",
   "mimetype": "text/x-python",
   "name": "python",
   "nbconvert_exporter": "python",
   "pygments_lexer": "ipython3",
   "version": "3.5.5"
  }
 },
 "nbformat": 4,
 "nbformat_minor": 1
}
